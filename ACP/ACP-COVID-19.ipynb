{
  "nbformat": 4,
  "nbformat_minor": 0,
  "metadata": {
    "colab": {
      "name": "ACP.ipynb",
      "provenance": [],
      "collapsed_sections": []
    },
    "kernelspec": {
      "name": "python3",
      "display_name": "Python 3"
    }
  },
  "cells": [
    {
      "cell_type": "code",
      "metadata": {
        "id": "0ht5wn5SbxAP",
        "colab_type": "code",
        "outputId": "bfdf138b-4f35-422a-c383-8f2a1d86dfad",
        "colab": {
          "resources": {
            "http://localhost:8080/nbextensions/google.colab/files.js": {
              "data": "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",
              "ok": true,
              "headers": [
                [
                  "content-type",
                  "application/javascript"
                ]
              ],
              "status": 200,
              "status_text": ""
            }
          },
          "base_uri": "https://localhost:8080/",
          "height": 74
        }
      },
      "source": [
        "from google.colab import files\n",
        "upladed = files.upload()"
      ],
      "execution_count": 0,
      "outputs": [
        {
          "output_type": "display_data",
          "data": {
            "text/html": [
              "\n",
              "     <input type=\"file\" id=\"files-f379e1e1-d491-4d30-98c1-ea76057e6794\" name=\"files[]\" multiple disabled />\n",
              "     <output id=\"result-f379e1e1-d491-4d30-98c1-ea76057e6794\">\n",
              "      Upload widget is only available when the cell has been executed in the\n",
              "      current browser session. Please rerun this cell to enable.\n",
              "      </output>\n",
              "      <script src=\"/nbextensions/google.colab/files.js\"></script> "
            ],
            "text/plain": [
              "<IPython.core.display.HTML object>"
            ]
          },
          "metadata": {
            "tags": []
          }
        },
        {
          "output_type": "stream",
          "text": [
            "Saving Corona - Feuille 1 (1).csv to Corona - Feuille 1 (1) (1).csv\n"
          ],
          "name": "stdout"
        }
      ]
    },
    {
      "cell_type": "code",
      "metadata": {
        "id": "xXPFzLprb5aF",
        "colab_type": "code",
        "colab": {}
      },
      "source": [
        "import pandas as pd\n",
        "import numpy as np\n",
        "import matplotlib.pyplot as plt\n",
        "import seaborn as sns"
      ],
      "execution_count": 0,
      "outputs": []
    },
    {
      "cell_type": "code",
      "metadata": {
        "id": "S4UO0RRgdCrE",
        "colab_type": "code",
        "colab": {}
      },
      "source": [
        "df = pd.read_csv('/content/Corona - Feuille 1 (1).csv')"
      ],
      "execution_count": 0,
      "outputs": []
    },
    {
      "cell_type": "markdown",
      "metadata": {
        "id": "dIfmQmOjb6OC",
        "colab_type": "text"
      },
      "source": [
        "## Covid-19 Date:03/04/2020"
      ]
    },
    {
      "cell_type": "code",
      "metadata": {
        "id": "mXNtO7_8A037",
        "colab_type": "code",
        "outputId": "02f17e88-222b-461c-c652-99b59cfb8f5a",
        "colab": {
          "base_uri": "https://localhost:8080/",
          "height": 195
        }
      },
      "source": [
        "df.head()"
      ],
      "execution_count": 0,
      "outputs": [
        {
          "output_type": "execute_result",
          "data": {
            "text/html": [
              "<div>\n",
              "<style scoped>\n",
              "    .dataframe tbody tr th:only-of-type {\n",
              "        vertical-align: middle;\n",
              "    }\n",
              "\n",
              "    .dataframe tbody tr th {\n",
              "        vertical-align: top;\n",
              "    }\n",
              "\n",
              "    .dataframe thead th {\n",
              "        text-align: right;\n",
              "    }\n",
              "</style>\n",
              "<table border=\"1\" class=\"dataframe\">\n",
              "  <thead>\n",
              "    <tr style=\"text-align: right;\">\n",
              "      <th></th>\n",
              "      <th>Country</th>\n",
              "      <th>Total\\nCases</th>\n",
              "      <th>New\\nCases</th>\n",
              "      <th>Total\\nDeaths</th>\n",
              "      <th>New\\nDeaths</th>\n",
              "      <th>Total\\nRecovered</th>\n",
              "      <th>Active\\nCases</th>\n",
              "      <th>Critical Cases\\n</th>\n",
              "      <th>Tot Cases/\\n1M pop</th>\n",
              "      <th>Deaths/\\n1M pop</th>\n",
              "    </tr>\n",
              "  </thead>\n",
              "  <tbody>\n",
              "    <tr>\n",
              "      <th>0</th>\n",
              "      <td>USA</td>\n",
              "      <td>258112</td>\n",
              "      <td>13235.0</td>\n",
              "      <td>6572</td>\n",
              "      <td>502.0</td>\n",
              "      <td>11941</td>\n",
              "      <td>239599</td>\n",
              "      <td>5781</td>\n",
              "      <td>780</td>\n",
              "      <td>20</td>\n",
              "    </tr>\n",
              "    <tr>\n",
              "      <th>1</th>\n",
              "      <td>Italy</td>\n",
              "      <td>119827</td>\n",
              "      <td>4585.0</td>\n",
              "      <td>14681</td>\n",
              "      <td>766.0</td>\n",
              "      <td>19758</td>\n",
              "      <td>85388</td>\n",
              "      <td>4068</td>\n",
              "      <td>1982</td>\n",
              "      <td>243</td>\n",
              "    </tr>\n",
              "    <tr>\n",
              "      <th>2</th>\n",
              "      <td>Spain</td>\n",
              "      <td>117710</td>\n",
              "      <td>5645.0</td>\n",
              "      <td>10935</td>\n",
              "      <td>587.0</td>\n",
              "      <td>30513</td>\n",
              "      <td>76262</td>\n",
              "      <td>6416</td>\n",
              "      <td>2518</td>\n",
              "      <td>234</td>\n",
              "    </tr>\n",
              "    <tr>\n",
              "      <th>3</th>\n",
              "      <td>Germany</td>\n",
              "      <td>89451</td>\n",
              "      <td>4657.0</td>\n",
              "      <td>1208</td>\n",
              "      <td>101.0</td>\n",
              "      <td>24575</td>\n",
              "      <td>63668</td>\n",
              "      <td>3936</td>\n",
              "      <td>1068</td>\n",
              "      <td>14</td>\n",
              "    </tr>\n",
              "    <tr>\n",
              "      <th>4</th>\n",
              "      <td>China</td>\n",
              "      <td>81620</td>\n",
              "      <td>31.0</td>\n",
              "      <td>3322</td>\n",
              "      <td>4.0</td>\n",
              "      <td>76571</td>\n",
              "      <td>1727</td>\n",
              "      <td>379</td>\n",
              "      <td>57</td>\n",
              "      <td>2</td>\n",
              "    </tr>\n",
              "  </tbody>\n",
              "</table>\n",
              "</div>"
            ],
            "text/plain": [
              "   Country  Total\\nCases  ...  Tot Cases/\\n1M pop  Deaths/\\n1M pop\n",
              "0      USA        258112  ...                 780               20\n",
              "1    Italy        119827  ...                1982              243\n",
              "2    Spain        117710  ...                2518              234\n",
              "3  Germany         89451  ...                1068               14\n",
              "4    China         81620  ...                  57                2\n",
              "\n",
              "[5 rows x 10 columns]"
            ]
          },
          "metadata": {
            "tags": []
          },
          "execution_count": 73
        }
      ]
    },
    {
      "cell_type": "code",
      "metadata": {
        "id": "CbI4S2Nrlbxm",
        "colab_type": "code",
        "outputId": "51e4b77b-5eb8-4b84-9908-1536202a153c",
        "colab": {
          "base_uri": "https://localhost:8080/",
          "height": 202
        }
      },
      "source": [
        "df.isnull().sum()"
      ],
      "execution_count": 0,
      "outputs": [
        {
          "output_type": "execute_result",
          "data": {
            "text/plain": [
              "Country               0\n",
              "Total\\nCases          0\n",
              "New\\nCases            2\n",
              "Total\\nDeaths         0\n",
              "New\\nDeaths           3\n",
              "Total\\nRecovered      0\n",
              "Active\\nCases         0\n",
              "Critical Cases\\n      0\n",
              "Tot Cases/\\n1M pop    0\n",
              "Deaths/\\n1M pop       0\n",
              "dtype: int64"
            ]
          },
          "metadata": {
            "tags": []
          },
          "execution_count": 74
        }
      ]
    },
    {
      "cell_type": "code",
      "metadata": {
        "id": "o869sFYXl33b",
        "colab_type": "code",
        "colab": {}
      },
      "source": [
        "df.drop(columns=[\"New\\nCases\",\"New\\nDeaths\"], axis=1 , inplace=True)"
      ],
      "execution_count": 0,
      "outputs": []
    },
    {
      "cell_type": "code",
      "metadata": {
        "id": "4QWaUkM9nkQZ",
        "colab_type": "code",
        "outputId": "a24c2360-3797-4413-cb74-771a984e7844",
        "colab": {
          "base_uri": "https://localhost:8080/",
          "height": 195
        }
      },
      "source": [
        "df.head()"
      ],
      "execution_count": 0,
      "outputs": [
        {
          "output_type": "execute_result",
          "data": {
            "text/html": [
              "<div>\n",
              "<style scoped>\n",
              "    .dataframe tbody tr th:only-of-type {\n",
              "        vertical-align: middle;\n",
              "    }\n",
              "\n",
              "    .dataframe tbody tr th {\n",
              "        vertical-align: top;\n",
              "    }\n",
              "\n",
              "    .dataframe thead th {\n",
              "        text-align: right;\n",
              "    }\n",
              "</style>\n",
              "<table border=\"1\" class=\"dataframe\">\n",
              "  <thead>\n",
              "    <tr style=\"text-align: right;\">\n",
              "      <th></th>\n",
              "      <th>Country</th>\n",
              "      <th>Total\\nCases</th>\n",
              "      <th>Total\\nDeaths</th>\n",
              "      <th>Total\\nRecovered</th>\n",
              "      <th>Active\\nCases</th>\n",
              "      <th>Critical Cases\\n</th>\n",
              "      <th>Tot Cases/\\n1M pop</th>\n",
              "      <th>Deaths/\\n1M pop</th>\n",
              "    </tr>\n",
              "  </thead>\n",
              "  <tbody>\n",
              "    <tr>\n",
              "      <th>0</th>\n",
              "      <td>USA</td>\n",
              "      <td>258112</td>\n",
              "      <td>6572</td>\n",
              "      <td>11941</td>\n",
              "      <td>239599</td>\n",
              "      <td>5781</td>\n",
              "      <td>780</td>\n",
              "      <td>20</td>\n",
              "    </tr>\n",
              "    <tr>\n",
              "      <th>1</th>\n",
              "      <td>Italy</td>\n",
              "      <td>119827</td>\n",
              "      <td>14681</td>\n",
              "      <td>19758</td>\n",
              "      <td>85388</td>\n",
              "      <td>4068</td>\n",
              "      <td>1982</td>\n",
              "      <td>243</td>\n",
              "    </tr>\n",
              "    <tr>\n",
              "      <th>2</th>\n",
              "      <td>Spain</td>\n",
              "      <td>117710</td>\n",
              "      <td>10935</td>\n",
              "      <td>30513</td>\n",
              "      <td>76262</td>\n",
              "      <td>6416</td>\n",
              "      <td>2518</td>\n",
              "      <td>234</td>\n",
              "    </tr>\n",
              "    <tr>\n",
              "      <th>3</th>\n",
              "      <td>Germany</td>\n",
              "      <td>89451</td>\n",
              "      <td>1208</td>\n",
              "      <td>24575</td>\n",
              "      <td>63668</td>\n",
              "      <td>3936</td>\n",
              "      <td>1068</td>\n",
              "      <td>14</td>\n",
              "    </tr>\n",
              "    <tr>\n",
              "      <th>4</th>\n",
              "      <td>China</td>\n",
              "      <td>81620</td>\n",
              "      <td>3322</td>\n",
              "      <td>76571</td>\n",
              "      <td>1727</td>\n",
              "      <td>379</td>\n",
              "      <td>57</td>\n",
              "      <td>2</td>\n",
              "    </tr>\n",
              "  </tbody>\n",
              "</table>\n",
              "</div>"
            ],
            "text/plain": [
              "   Country  Total\\nCases  ...  Tot Cases/\\n1M pop  Deaths/\\n1M pop\n",
              "0      USA        258112  ...                 780               20\n",
              "1    Italy        119827  ...                1982              243\n",
              "2    Spain        117710  ...                2518              234\n",
              "3  Germany         89451  ...                1068               14\n",
              "4    China         81620  ...                  57                2\n",
              "\n",
              "[5 rows x 8 columns]"
            ]
          },
          "metadata": {
            "tags": []
          },
          "execution_count": 85
        }
      ]
    },
    {
      "cell_type": "code",
      "metadata": {
        "id": "ahIRPHRZnsDL",
        "colab_type": "code",
        "outputId": "926c644d-a843-4246-f361-c489023a1bb6",
        "colab": {
          "base_uri": "https://localhost:8080/",
          "height": 284
        }
      },
      "source": [
        "df.describe()"
      ],
      "execution_count": 0,
      "outputs": [
        {
          "output_type": "execute_result",
          "data": {
            "text/html": [
              "<div>\n",
              "<style scoped>\n",
              "    .dataframe tbody tr th:only-of-type {\n",
              "        vertical-align: middle;\n",
              "    }\n",
              "\n",
              "    .dataframe tbody tr th {\n",
              "        vertical-align: top;\n",
              "    }\n",
              "\n",
              "    .dataframe thead th {\n",
              "        text-align: right;\n",
              "    }\n",
              "</style>\n",
              "<table border=\"1\" class=\"dataframe\">\n",
              "  <thead>\n",
              "    <tr style=\"text-align: right;\">\n",
              "      <th></th>\n",
              "      <th>Total\\nCases</th>\n",
              "      <th>Total\\nDeaths</th>\n",
              "      <th>Total\\nRecovered</th>\n",
              "      <th>Active\\nCases</th>\n",
              "      <th>Critical Cases\\n</th>\n",
              "      <th>Tot Cases/\\n1M pop</th>\n",
              "      <th>Deaths/\\n1M pop</th>\n",
              "    </tr>\n",
              "  </thead>\n",
              "  <tbody>\n",
              "    <tr>\n",
              "      <th>count</th>\n",
              "      <td>15.000000</td>\n",
              "      <td>15.000000</td>\n",
              "      <td>15.000000</td>\n",
              "      <td>15.000000</td>\n",
              "      <td>15.000000</td>\n",
              "      <td>15.000000</td>\n",
              "      <td>15.000000</td>\n",
              "    </tr>\n",
              "    <tr>\n",
              "      <th>mean</th>\n",
              "      <td>61357.333333</td>\n",
              "      <td>3538.533333</td>\n",
              "      <td>14150.733333</td>\n",
              "      <td>43668.066667</td>\n",
              "      <td>2362.200000</td>\n",
              "      <td>1006.200000</td>\n",
              "      <td>64.733333</td>\n",
              "    </tr>\n",
              "    <tr>\n",
              "      <th>std</th>\n",
              "      <td>66765.682191</td>\n",
              "      <td>4308.639060</td>\n",
              "      <td>19784.140288</td>\n",
              "      <td>60311.226063</td>\n",
              "      <td>2457.996344</td>\n",
              "      <td>759.517629</td>\n",
              "      <td>77.875786</td>\n",
              "    </tr>\n",
              "    <tr>\n",
              "      <th>min</th>\n",
              "      <td>10062.000000</td>\n",
              "      <td>168.000000</td>\n",
              "      <td>135.000000</td>\n",
              "      <td>1727.000000</td>\n",
              "      <td>55.000000</td>\n",
              "      <td>57.000000</td>\n",
              "      <td>2.000000</td>\n",
              "    </tr>\n",
              "    <tr>\n",
              "      <th>25%</th>\n",
              "      <td>16246.500000</td>\n",
              "      <td>464.500000</td>\n",
              "      <td>2000.500000</td>\n",
              "      <td>11175.000000</td>\n",
              "      <td>296.500000</td>\n",
              "      <td>436.500000</td>\n",
              "      <td>9.500000</td>\n",
              "    </tr>\n",
              "    <tr>\n",
              "      <th>50%</th>\n",
              "      <td>38168.000000</td>\n",
              "      <td>1487.000000</td>\n",
              "      <td>6021.000000</td>\n",
              "      <td>17364.000000</td>\n",
              "      <td>1182.000000</td>\n",
              "      <td>905.000000</td>\n",
              "      <td>39.000000</td>\n",
              "    </tr>\n",
              "    <tr>\n",
              "      <th>75%</th>\n",
              "      <td>85535.500000</td>\n",
              "      <td>4496.000000</td>\n",
              "      <td>18846.500000</td>\n",
              "      <td>52479.000000</td>\n",
              "      <td>4051.500000</td>\n",
              "      <td>1359.000000</td>\n",
              "      <td>85.000000</td>\n",
              "    </tr>\n",
              "    <tr>\n",
              "      <th>max</th>\n",
              "      <td>258112.000000</td>\n",
              "      <td>14681.000000</td>\n",
              "      <td>76571.000000</td>\n",
              "      <td>239599.000000</td>\n",
              "      <td>6416.000000</td>\n",
              "      <td>2518.000000</td>\n",
              "      <td>243.000000</td>\n",
              "    </tr>\n",
              "  </tbody>\n",
              "</table>\n",
              "</div>"
            ],
            "text/plain": [
              "        Total\\nCases  Total\\nDeaths  ...  Tot Cases/\\n1M pop  Deaths/\\n1M pop\n",
              "count      15.000000      15.000000  ...           15.000000        15.000000\n",
              "mean    61357.333333    3538.533333  ...         1006.200000        64.733333\n",
              "std     66765.682191    4308.639060  ...          759.517629        77.875786\n",
              "min     10062.000000     168.000000  ...           57.000000         2.000000\n",
              "25%     16246.500000     464.500000  ...          436.500000         9.500000\n",
              "50%     38168.000000    1487.000000  ...          905.000000        39.000000\n",
              "75%     85535.500000    4496.000000  ...         1359.000000        85.000000\n",
              "max    258112.000000   14681.000000  ...         2518.000000       243.000000\n",
              "\n",
              "[8 rows x 7 columns]"
            ]
          },
          "metadata": {
            "tags": []
          },
          "execution_count": 77
        }
      ]
    },
    {
      "cell_type": "code",
      "metadata": {
        "id": "6SZoR2TrSzhc",
        "colab_type": "code",
        "outputId": "e822f29a-25a9-4da2-92ab-badecc97b79d",
        "colab": {
          "base_uri": "https://localhost:8080/",
          "height": 474
        }
      },
      "source": [
        "pd.plotting.scatter_matrix(df,figsize=(7,7));"
      ],
      "execution_count": 0,
      "outputs": [
        {
          "output_type": "display_data",
          "data": {
            "image/png": "[encoded data removed]",
            "text/plain": [
              "<Figure size 504x504 with 49 Axes>"
            ]
          },
          "metadata": {
            "tags": []
          }
        }
      ]
    },
    {
      "cell_type": "markdown",
      "metadata": {
        "id": "h3Yptvr0R0ve",
        "colab_type": "text"
      },
      "source": [
        "##Matrice De Corrélation:"
      ]
    },
    {
      "cell_type": "code",
      "metadata": {
        "id": "MIm-B1ZXCNX0",
        "colab_type": "code",
        "colab": {}
      },
      "source": [
        "corr=df.corr()"
      ],
      "execution_count": 0,
      "outputs": []
    },
    {
      "cell_type": "code",
      "metadata": {
        "id": "dudbHJ5EM04c",
        "colab_type": "code",
        "outputId": "224dffb2-03c5-4a4a-d6fb-713b6d047b39",
        "colab": {
          "base_uri": "https://localhost:8080/",
          "height": 254
        }
      },
      "source": [
        "corr"
      ],
      "execution_count": 0,
      "outputs": [
        {
          "output_type": "execute_result",
          "data": {
            "text/html": [
              "<div>\n",
              "<style scoped>\n",
              "    .dataframe tbody tr th:only-of-type {\n",
              "        vertical-align: middle;\n",
              "    }\n",
              "\n",
              "    .dataframe tbody tr th {\n",
              "        vertical-align: top;\n",
              "    }\n",
              "\n",
              "    .dataframe thead th {\n",
              "        text-align: right;\n",
              "    }\n",
              "</style>\n",
              "<table border=\"1\" class=\"dataframe\">\n",
              "  <thead>\n",
              "    <tr style=\"text-align: right;\">\n",
              "      <th></th>\n",
              "      <th>Total\\nCases</th>\n",
              "      <th>Total\\nDeaths</th>\n",
              "      <th>Total\\nRecovered</th>\n",
              "      <th>Active\\nCases</th>\n",
              "      <th>Critical Cases\\n</th>\n",
              "      <th>Tot Cases/\\n1M pop</th>\n",
              "      <th>Deaths/\\n1M pop</th>\n",
              "    </tr>\n",
              "  </thead>\n",
              "  <tbody>\n",
              "    <tr>\n",
              "      <th>Total\\nCases</th>\n",
              "      <td>1.000000</td>\n",
              "      <td>0.636166</td>\n",
              "      <td>0.347124</td>\n",
              "      <td>0.947703</td>\n",
              "      <td>0.702073</td>\n",
              "      <td>0.174324</td>\n",
              "      <td>0.238291</td>\n",
              "    </tr>\n",
              "    <tr>\n",
              "      <th>Total\\nDeaths</th>\n",
              "      <td>0.636166</td>\n",
              "      <td>1.000000</td>\n",
              "      <td>0.310030</td>\n",
              "      <td>0.531107</td>\n",
              "      <td>0.678869</td>\n",
              "      <td>0.512754</td>\n",
              "      <td>0.829871</td>\n",
              "    </tr>\n",
              "    <tr>\n",
              "      <th>Total\\nRecovered</th>\n",
              "      <td>0.347124</td>\n",
              "      <td>0.310030</td>\n",
              "      <td>1.000000</td>\n",
              "      <td>0.034090</td>\n",
              "      <td>0.188603</td>\n",
              "      <td>-0.072908</td>\n",
              "      <td>0.063467</td>\n",
              "    </tr>\n",
              "    <tr>\n",
              "      <th>Active\\nCases</th>\n",
              "      <td>0.947703</td>\n",
              "      <td>0.531107</td>\n",
              "      <td>0.034090</td>\n",
              "      <td>1.000000</td>\n",
              "      <td>0.666842</td>\n",
              "      <td>0.180265</td>\n",
              "      <td>0.183688</td>\n",
              "    </tr>\n",
              "    <tr>\n",
              "      <th>Critical Cases\\n</th>\n",
              "      <td>0.702073</td>\n",
              "      <td>0.678869</td>\n",
              "      <td>0.188603</td>\n",
              "      <td>0.666842</td>\n",
              "      <td>1.000000</td>\n",
              "      <td>0.380228</td>\n",
              "      <td>0.492450</td>\n",
              "    </tr>\n",
              "    <tr>\n",
              "      <th>Tot Cases/\\n1M pop</th>\n",
              "      <td>0.174324</td>\n",
              "      <td>0.512754</td>\n",
              "      <td>-0.072908</td>\n",
              "      <td>0.180265</td>\n",
              "      <td>0.380228</td>\n",
              "      <td>1.000000</td>\n",
              "      <td>0.786794</td>\n",
              "    </tr>\n",
              "    <tr>\n",
              "      <th>Deaths/\\n1M pop</th>\n",
              "      <td>0.238291</td>\n",
              "      <td>0.829871</td>\n",
              "      <td>0.063467</td>\n",
              "      <td>0.183688</td>\n",
              "      <td>0.492450</td>\n",
              "      <td>0.786794</td>\n",
              "      <td>1.000000</td>\n",
              "    </tr>\n",
              "  </tbody>\n",
              "</table>\n",
              "</div>"
            ],
            "text/plain": [
              "                    Total\\nCases  ...  Deaths/\\n1M pop\n",
              "Total\\nCases            1.000000  ...         0.238291\n",
              "Total\\nDeaths           0.636166  ...         0.829871\n",
              "Total\\nRecovered        0.347124  ...         0.063467\n",
              "Active\\nCases           0.947703  ...         0.183688\n",
              "Critical Cases\\n        0.702073  ...         0.492450\n",
              "Tot Cases/\\n1M pop      0.174324  ...         0.786794\n",
              "Deaths/\\n1M pop         0.238291  ...         1.000000\n",
              "\n",
              "[7 rows x 7 columns]"
            ]
          },
          "metadata": {
            "tags": []
          },
          "execution_count": 79
        }
      ]
    },
    {
      "cell_type": "code",
      "metadata": {
        "id": "ddNn9G_QM257",
        "colab_type": "code",
        "outputId": "fbbca4c8-1181-4d1a-a65a-92dbbd6b0044",
        "colab": {
          "base_uri": "https://localhost:8080/",
          "height": 344
        }
      },
      "source": [
        "sns.heatmap(corr,xticklabels=corr.columns.values,yticklabels=corr.columns.values)"
      ],
      "execution_count": 0,
      "outputs": [
        {
          "output_type": "execute_result",
          "data": {
            "text/plain": [
              "<matplotlib.axes._subplots.AxesSubplot at 0x7f84668a8208>"
            ]
          },
          "metadata": {
            "tags": []
          },
          "execution_count": 80
        },
        {
          "output_type": "display_data",
          "data": {
            "image/png": "[encoded data removed]",
            "text/plain": [
              "<Figure size 432x288 with 2 Axes>"
            ]
          },
          "metadata": {
            "tags": []
          }
        }
      ]
    },
    {
      "cell_type": "markdown",
      "metadata": {
        "id": "PE3D9eMjR8LM",
        "colab_type": "text"
      },
      "source": [
        "##Matrice de Covariance:"
      ]
    },
    {
      "cell_type": "code",
      "metadata": {
        "id": "2jdNXEePM9qL",
        "colab_type": "code",
        "colab": {}
      },
      "source": [
        "cov=df.cov()"
      ],
      "execution_count": 0,
      "outputs": []
    },
    {
      "cell_type": "code",
      "metadata": {
        "id": "NBtYf0njNQz1",
        "colab_type": "code",
        "outputId": "0e2f1362-543b-4702-f54a-6d489070c35c",
        "colab": {
          "base_uri": "https://localhost:8080/",
          "height": 254
        }
      },
      "source": [
        "cov"
      ],
      "execution_count": 0,
      "outputs": [
        {
          "output_type": "execute_result",
          "data": {
            "text/html": [
              "<div>\n",
              "<style scoped>\n",
              "    .dataframe tbody tr th:only-of-type {\n",
              "        vertical-align: middle;\n",
              "    }\n",
              "\n",
              "    .dataframe tbody tr th {\n",
              "        vertical-align: top;\n",
              "    }\n",
              "\n",
              "    .dataframe thead th {\n",
              "        text-align: right;\n",
              "    }\n",
              "</style>\n",
              "<table border=\"1\" class=\"dataframe\">\n",
              "  <thead>\n",
              "    <tr style=\"text-align: right;\">\n",
              "      <th></th>\n",
              "      <th>Total\\nCases</th>\n",
              "      <th>Total\\nDeaths</th>\n",
              "      <th>Total\\nRecovered</th>\n",
              "      <th>Active\\nCases</th>\n",
              "      <th>Critical Cases\\n</th>\n",
              "      <th>Tot Cases/\\n1M pop</th>\n",
              "      <th>Deaths/\\n1M pop</th>\n",
              "    </tr>\n",
              "  </thead>\n",
              "  <tbody>\n",
              "    <tr>\n",
              "      <th>Total\\nCases</th>\n",
              "      <td>4.457656e+09</td>\n",
              "      <td>1.830053e+08</td>\n",
              "      <td>4.585169e+08</td>\n",
              "      <td>3.816134e+09</td>\n",
              "      <td>1.152171e+08</td>\n",
              "      <td>8.839909e+06</td>\n",
              "      <td>1.238979e+06</td>\n",
              "    </tr>\n",
              "    <tr>\n",
              "      <th>Total\\nDeaths</th>\n",
              "      <td>1.830053e+08</td>\n",
              "      <td>1.856437e+07</td>\n",
              "      <td>2.642777e+07</td>\n",
              "      <td>1.380132e+08</td>\n",
              "      <td>7.189642e+06</td>\n",
              "      <td>1.677982e+06</td>\n",
              "      <td>2.784537e+05</td>\n",
              "    </tr>\n",
              "    <tr>\n",
              "      <th>Total\\nRecovered</th>\n",
              "      <td>4.585169e+08</td>\n",
              "      <td>2.642777e+07</td>\n",
              "      <td>3.914122e+08</td>\n",
              "      <td>4.067692e+07</td>\n",
              "      <td>9.171618e+06</td>\n",
              "      <td>-1.095543e+06</td>\n",
              "      <td>9.778428e+04</td>\n",
              "    </tr>\n",
              "    <tr>\n",
              "      <th>Active\\nCases</th>\n",
              "      <td>3.816134e+09</td>\n",
              "      <td>1.380132e+08</td>\n",
              "      <td>4.067692e+07</td>\n",
              "      <td>3.637444e+09</td>\n",
              "      <td>9.885580e+07</td>\n",
              "      <td>8.257470e+06</td>\n",
              "      <td>8.627410e+05</td>\n",
              "    </tr>\n",
              "    <tr>\n",
              "      <th>Critical Cases\\n</th>\n",
              "      <td>1.152171e+08</td>\n",
              "      <td>7.189642e+06</td>\n",
              "      <td>9.171618e+06</td>\n",
              "      <td>9.885580e+07</td>\n",
              "      <td>6.041746e+06</td>\n",
              "      <td>7.098448e+05</td>\n",
              "      <td>9.426399e+04</td>\n",
              "    </tr>\n",
              "    <tr>\n",
              "      <th>Tot Cases/\\n1M pop</th>\n",
              "      <td>8.839909e+06</td>\n",
              "      <td>1.677982e+06</td>\n",
              "      <td>-1.095543e+06</td>\n",
              "      <td>8.257470e+06</td>\n",
              "      <td>7.098448e+05</td>\n",
              "      <td>5.768670e+05</td>\n",
              "      <td>4.653734e+04</td>\n",
              "    </tr>\n",
              "    <tr>\n",
              "      <th>Deaths/\\n1M pop</th>\n",
              "      <td>1.238979e+06</td>\n",
              "      <td>2.784537e+05</td>\n",
              "      <td>9.778428e+04</td>\n",
              "      <td>8.627410e+05</td>\n",
              "      <td>9.426399e+04</td>\n",
              "      <td>4.653734e+04</td>\n",
              "      <td>6.064638e+03</td>\n",
              "    </tr>\n",
              "  </tbody>\n",
              "</table>\n",
              "</div>"
            ],
            "text/plain": [
              "                    Total\\nCases  ...  Deaths/\\n1M pop\n",
              "Total\\nCases        4.457656e+09  ...     1.238979e+06\n",
              "Total\\nDeaths       1.830053e+08  ...     2.784537e+05\n",
              "Total\\nRecovered    4.585169e+08  ...     9.778428e+04\n",
              "Active\\nCases       3.816134e+09  ...     8.627410e+05\n",
              "Critical Cases\\n    1.152171e+08  ...     9.426399e+04\n",
              "Tot Cases/\\n1M pop  8.839909e+06  ...     4.653734e+04\n",
              "Deaths/\\n1M pop     1.238979e+06  ...     6.064638e+03\n",
              "\n",
              "[7 rows x 7 columns]"
            ]
          },
          "metadata": {
            "tags": []
          },
          "execution_count": 82
        }
      ]
    },
    {
      "cell_type": "code",
      "metadata": {
        "id": "idBuQ8IbNRQ5",
        "colab_type": "code",
        "colab": {}
      },
      "source": [
        "from sklearn import preprocessing\n",
        "from sklearn.decomposition import PCA "
      ],
      "execution_count": 0,
      "outputs": []
    },
    {
      "cell_type": "code",
      "metadata": {
        "id": "1YA8HFNFN1l-",
        "colab_type": "code",
        "outputId": "e4ab1f69-eb5b-4776-c504-ce46e5e2f513",
        "colab": {
          "base_uri": "https://localhost:8080/",
          "height": 34
        }
      },
      "source": [
        "x = df.iloc[:,1:8]\n",
        "x=np.array(x)\n",
        "type(x)"
      ],
      "execution_count": 0,
      "outputs": [
        {
          "output_type": "execute_result",
          "data": {
            "text/plain": [
              "numpy.ndarray"
            ]
          },
          "metadata": {
            "tags": []
          },
          "execution_count": 128
        }
      ]
    },
    {
      "cell_type": "code",
      "metadata": {
        "id": "YNrSrvSeNVJI",
        "colab_type": "code",
        "colab": {}
      },
      "source": [
        "dfprocessed = preprocessing.scale(x)"
      ],
      "execution_count": 0,
      "outputs": []
    },
    {
      "cell_type": "code",
      "metadata": {
        "id": "5HyT5UGJNZxQ",
        "colab_type": "code",
        "outputId": "68dc02f7-64dd-4140-cbe6-b2c5382d7e6c",
        "colab": {
          "base_uri": "https://localhost:8080/",
          "height": 521
        }
      },
      "source": [
        "dfprocessed"
      ],
      "execution_count": 0,
      "outputs": [
        {
          "output_type": "execute_result",
          "data": {
            "text/plain": [
              "array([[ 3.05037591,  0.72875362, -0.11561237,  3.36268713,  1.43970686,\n",
              "        -0.30827361, -0.59458018],\n",
              "       [ 0.90648149,  2.67684264,  0.29336996,  0.71602314,  0.71833742,\n",
              "         1.32985585,  2.36945961],\n",
              "       [ 0.87366069,  1.77691152,  0.85606727,  0.55939712,  1.70711468,\n",
              "         2.0603362 ,  2.24983469],\n",
              "       [ 0.43554872, -0.5598824 ,  0.54539348,  0.34325115,  0.66275028,\n",
              "         0.0842233 , -0.67433013],\n",
              "       [ 0.31414122, -0.05201951,  3.26580349, -0.71981837, -0.83515463,\n",
              "        -1.2936044 , -0.83383003],\n",
              "       [-0.03491893,  0.44407172, -0.09013272, -0.04081384,  1.69995573,\n",
              "        -0.13791905,  0.24279429],\n",
              "       [-0.12673036, -0.05874617,  0.19799132, -0.20104401,  0.70444063,\n",
              "        -0.50861058, -0.34203867],\n",
              "       [-0.35951464,  0.01596781, -0.73329758, -0.1585837 , -0.9261154 ,\n",
              "        -0.60537197, -0.15595546],\n",
              "       [-0.65198721, -0.71243346, -0.48681994, -0.51117246, -0.84820918,\n",
              "         1.6678393 ,  0.0168361 ],\n",
              "       [-0.67009523, -0.76456508, -0.7186481 , -0.45144656, -0.53110983,\n",
              "        -1.07827623, -0.80724671],\n",
              "       [-0.69125744, -0.57549786, -0.59009884, -0.53054905, -0.48731391,\n",
              "         0.60073832,  0.45546082],\n",
              "       [-0.70748955, -0.49285603, -0.72728083, -0.50942188, -0.49699954,\n",
              "        -0.12020218,  0.29596092],\n",
              "       [-0.76913127, -0.80852861, -0.63682024, -0.58478292, -0.94422333,\n",
              "        -0.94744393, -0.79395505],\n",
              "       [-0.77382881, -0.8097298 , -0.6345705 , -0.59063537, -0.891584  ,\n",
              "         0.3608791 , -0.60787184],\n",
              "       [-0.79525458, -0.80828838, -0.42534441, -0.68309037, -0.97159579,\n",
              "        -1.10417012, -0.82053837]])"
            ]
          },
          "metadata": {
            "tags": []
          },
          "execution_count": 130
        }
      ]
    },
    {
      "cell_type": "markdown",
      "metadata": {
        "id": "-E1OnFS4QbnW",
        "colab_type": "text"
      },
      "source": [
        "Les Valeurs Propres:"
      ]
    },
    {
      "cell_type": "code",
      "metadata": {
        "id": "rHy7FZOeQiE0",
        "colab_type": "code",
        "colab": {}
      },
      "source": [
        "eig_vals, eig_vecs = np.linalg.eig(corr)"
      ],
      "execution_count": 0,
      "outputs": []
    },
    {
      "cell_type": "code",
      "metadata": {
        "colab_type": "code",
        "outputId": "6fe553d8-944d-4d41-de96-863789b7c3ab",
        "id": "A8RaHxcqXS6L",
        "colab": {
          "base_uri": "https://localhost:8080/",
          "height": 1000
        }
      },
      "source": [
        "print(eig_vals)\n",
        "print(eig_vecs)\n",
        "print('Eigenvectors \\n%s' %eig_vecs)\n",
        "print('\\nEigenvalues \\n%s' %eig_vals)\n",
        "eig_pairs = [(np.abs(eig_vals[i]), eig_vecs[:,i]) for i in range(len(eig_vals))]\n",
        "print(eig_pairs)\n",
        "\n",
        "eig_pairs.sort(key=lambda dfprocessed: dfprocessed[0], reverse=True)\n",
        "print(eig_pairs)\n",
        "tot = sum(eig_vals)\n",
        "var_exp = [(i / tot)*100 for i in sorted(eig_vals, reverse=True)]\n",
        "cum_var_exp = np.cumsum(var_exp)\n",
        "matrix_w = np.hstack((eig_pairs[0][1].reshape(7,1),\n",
        "                      eig_pairs[1][1].reshape(7,1)))\n",
        "\n",
        "print('Matrix W:\\n', matrix_w)\n",
        "\n"
      ],
      "execution_count": 0,
      "outputs": [
        {
          "output_type": "stream",
          "text": [
            "[ 3.74529982e+00  1.56393789e+00  1.01346207e+00 -3.68342682e-16\n",
            "  2.45606716e-02  3.41829326e-01  3.10910225e-01]\n",
            "[[ 4.25787276e-01  4.25988944e-01 -7.80700915e-02  7.23959329e-01\n",
            "   1.22728550e-01  2.57779236e-01 -1.59731443e-01]\n",
            " [ 4.68976618e-01 -1.30219469e-01  1.82342274e-01 -4.67198019e-02\n",
            "  -6.31092931e-01 -3.52968318e-01 -4.52556578e-01]\n",
            " [ 1.42376508e-01  2.62840217e-01  8.82957801e-01 -2.14525074e-01\n",
            "   8.98776781e-02  2.41788080e-01  1.35900671e-01]\n",
            " [ 3.91146586e-01  3.94660248e-01 -3.89091924e-01 -6.53971821e-01\n",
            "   1.51465242e-01  2.31267896e-01 -1.89075144e-01]\n",
            " [ 4.38963953e-01  1.08548820e-01 -9.48997115e-02 -7.49588347e-16\n",
            "  -1.77758244e-02 -4.52059775e-01  7.62789503e-01]\n",
            " [ 3.04580581e-01 -5.44402472e-01 -8.77222712e-02 -1.16386909e-15\n",
            "  -2.66014831e-01  6.72318243e-01  2.83523740e-01]\n",
            " [ 3.74220152e-01 -5.18244846e-01  1.13790161e-01  3.54430647e-15\n",
            "   6.96103318e-01 -2.01611153e-01 -2.30708628e-01]]\n",
            "Eigenvectors \n",
            "[[ 4.25787276e-01  4.25988944e-01 -7.80700915e-02  7.23959329e-01\n",
            "   1.22728550e-01  2.57779236e-01 -1.59731443e-01]\n",
            " [ 4.68976618e-01 -1.30219469e-01  1.82342274e-01 -4.67198019e-02\n",
            "  -6.31092931e-01 -3.52968318e-01 -4.52556578e-01]\n",
            " [ 1.42376508e-01  2.62840217e-01  8.82957801e-01 -2.14525074e-01\n",
            "   8.98776781e-02  2.41788080e-01  1.35900671e-01]\n",
            " [ 3.91146586e-01  3.94660248e-01 -3.89091924e-01 -6.53971821e-01\n",
            "   1.51465242e-01  2.31267896e-01 -1.89075144e-01]\n",
            " [ 4.38963953e-01  1.08548820e-01 -9.48997115e-02 -7.49588347e-16\n",
            "  -1.77758244e-02 -4.52059775e-01  7.62789503e-01]\n",
            " [ 3.04580581e-01 -5.44402472e-01 -8.77222712e-02 -1.16386909e-15\n",
            "  -2.66014831e-01  6.72318243e-01  2.83523740e-01]\n",
            " [ 3.74220152e-01 -5.18244846e-01  1.13790161e-01  3.54430647e-15\n",
            "   6.96103318e-01 -2.01611153e-01 -2.30708628e-01]]\n",
            "\n",
            "Eigenvalues \n",
            "[ 3.74529982e+00  1.56393789e+00  1.01346207e+00 -3.68342682e-16\n",
            "  2.45606716e-02  3.41829326e-01  3.10910225e-01]\n",
            "[(3.7452998170647693, array([0.42578728, 0.46897662, 0.14237651, 0.39114659, 0.43896395,\n",
            "       0.30458058, 0.37422015])), (1.5639378914126758, array([ 0.42598894, -0.13021947,  0.26284022,  0.39466025,  0.10854882,\n",
            "       -0.54440247, -0.51824485])), (1.0134620689235667, array([-0.07807009,  0.18234227,  0.8829578 , -0.38909192, -0.09489971,\n",
            "       -0.08772227,  0.11379016])), (3.68342681811711e-16, array([ 7.23959329e-01, -4.67198019e-02, -2.14525074e-01, -6.53971821e-01,\n",
            "       -7.49588347e-16, -1.16386909e-15,  3.54430647e-15])), (0.02456067158778698, array([ 0.12272855, -0.63109293,  0.08987768,  0.15146524, -0.01777582,\n",
            "       -0.26601483,  0.69610332])), (0.3418293260926751, array([ 0.25777924, -0.35296832,  0.24178808,  0.2312679 , -0.45205978,\n",
            "        0.67231824, -0.20161115])), (0.3109102249185306, array([-0.15973144, -0.45255658,  0.13590067, -0.18907514,  0.7627895 ,\n",
            "        0.28352374, -0.23070863]))]\n",
            "[(3.7452998170647693, array([0.42578728, 0.46897662, 0.14237651, 0.39114659, 0.43896395,\n",
            "       0.30458058, 0.37422015])), (1.5639378914126758, array([ 0.42598894, -0.13021947,  0.26284022,  0.39466025,  0.10854882,\n",
            "       -0.54440247, -0.51824485])), (1.0134620689235667, array([-0.07807009,  0.18234227,  0.8829578 , -0.38909192, -0.09489971,\n",
            "       -0.08772227,  0.11379016])), (0.3418293260926751, array([ 0.25777924, -0.35296832,  0.24178808,  0.2312679 , -0.45205978,\n",
            "        0.67231824, -0.20161115])), (0.3109102249185306, array([-0.15973144, -0.45255658,  0.13590067, -0.18907514,  0.7627895 ,\n",
            "        0.28352374, -0.23070863])), (0.02456067158778698, array([ 0.12272855, -0.63109293,  0.08987768,  0.15146524, -0.01777582,\n",
            "       -0.26601483,  0.69610332])), (3.68342681811711e-16, array([ 7.23959329e-01, -4.67198019e-02, -2.14525074e-01, -6.53971821e-01,\n",
            "       -7.49588347e-16, -1.16386909e-15,  3.54430647e-15]))]\n",
            "Matrix W:\n",
            " [[ 0.42578728  0.42598894]\n",
            " [ 0.46897662 -0.13021947]\n",
            " [ 0.14237651  0.26284022]\n",
            " [ 0.39114659  0.39466025]\n",
            " [ 0.43896395  0.10854882]\n",
            " [ 0.30458058 -0.54440247]\n",
            " [ 0.37422015 -0.51824485]]\n"
          ],
          "name": "stdout"
        }
      ]
    },
    {
      "cell_type": "code",
      "metadata": {
        "id": "N3MoQg0KXWRc",
        "colab_type": "code",
        "outputId": "dc32e945-6e54-4c8e-ccad-4bf3d95c4309",
        "colab": {
          "base_uri": "https://localhost:8080/",
          "height": 269
        }
      },
      "source": [
        "\n",
        "Y = dfprocessed.dot(matrix_w)\n",
        "print(Y) \n"
      ],
      "execution_count": 0,
      "outputs": [
        {
          "output_type": "stream",
          "text": [
            "[[ 3.25500414  3.13350137]\n",
            " [ 3.57025592 -1.476693  ]\n",
            " [ 3.76484739 -1.51575004]\n",
            " [ 0.19902042  0.91282296]\n",
            " [-0.77986496  1.76060993]\n",
            " [ 0.95966458  0.0212848 ]\n",
            " [-0.10564575  0.456975  ]\n",
            " [-0.96129955 -0.10069499]\n",
            " [-0.73901896 -1.52343511]\n",
            " [-1.78642962  0.39476681]\n",
            " [-0.71625972 -1.19999633]\n",
            " [-0.97920593 -0.77130107]\n",
            " [-2.02623841  0.20423181]\n",
            " [-1.53953811 -0.6023083 ]\n",
            " [-2.11529145  0.30598614]]\n"
          ],
          "name": "stdout"
        }
      ]
    },
    {
      "cell_type": "code",
      "metadata": {
        "id": "2MvahpdQVKl4",
        "colab_type": "code",
        "outputId": "c4cae0b5-29d6-437d-a4df-9770c83dc319",
        "colab": {
          "base_uri": "https://localhost:8080/",
          "height": 353
        }
      },
      "source": [
        "acp = PCA(n_components=2)\n",
        "acp.fit_transform(dfprocessed)\n",
        "print('Coordonnees des variables: \\n', acp.components_ )\n",
        "z=np.transpose(dfprocessed)\n",
        "c=corr\n",
        "c=z.dot(dfprocessed)\n",
        "print(\"c: \\n\",c)"
      ],
      "execution_count": 0,
      "outputs": [
        {
          "output_type": "stream",
          "text": [
            "Coordonn�es des variables: \n",
            " [[ 0.42578728  0.46897662  0.14237651  0.39114659  0.43896395  0.30458058\n",
            "   0.37422015]\n",
            " [ 0.42598894 -0.13021947  0.26284022  0.39466025  0.10854882 -0.54440247\n",
            "  -0.51824485]]\n",
            "c: \n",
            " [[15.          9.54248723  5.20686275 14.21554249 10.53109473  2.61485668\n",
            "   3.57436976]\n",
            " [ 9.54248723 15.          4.65044497  7.96661018 10.18303397  7.69131389\n",
            "  12.44806164]\n",
            " [ 5.20686275  4.65044497 15.          0.51135672  2.82903826 -1.09361786\n",
            "   0.95200818]\n",
            " [14.21554249  7.96661018  0.51135672 15.         10.00262564  2.70397228\n",
            "   2.75531403]\n",
            " [10.53109473 10.18303397  2.82903826 10.00262564 15.          5.70342299\n",
            "   7.38674965]\n",
            " [ 2.61485668  7.69131389 -1.09361786  2.70397228  5.70342299 15.\n",
            "  11.80191652]\n",
            " [ 3.57436976 12.44806164  0.95200818  2.75531403  7.38674965 11.80191652\n",
            "  15.        ]]\n"
          ],
          "name": "stdout"
        }
      ]
    },
    {
      "cell_type": "code",
      "metadata": {
        "id": "DFiiUlhY0qjV",
        "colab_type": "code",
        "outputId": "76dd4fcd-459f-4610-841e-b54ee895a3c6",
        "colab": {
          "base_uri": "https://localhost:8080/",
          "height": 700
        }
      },
      "source": [
        "#Plan factoriel\n",
        "# Création des figures\n",
        "fig, axes = plt.subplots(figsize=(12, 12))\n",
        "tmp = pd.DataFrame(columns=list(df))\n",
        "for i in range(15):\n",
        "    tmp.loc[i]=df.iloc[i]\n",
        "    plt.annotate(tmp.loc[i].Country, (acp.fit_transform(dfprocessed)[i, 0], acp.fit_transform(dfprocessed)[i, 1]))\n",
        "    \n",
        "# Échelle des axes\n",
        "plt.plot([-6,6], [0,0])\n",
        "plt.plot([0,0], [-6,6])\n",
        "plt.show()\n",
        "\n"
      ],
      "execution_count": 0,
      "outputs": [
        {
          "output_type": "display_data",
          "data": {
            "image/png": "[encoded data removed]",
            "text/plain": [
              "<Figure size 864x864 with 1 Axes>"
            ]
          },
          "metadata": {
            "tags": []
          }
        }
      ]
    },
    {
      "cell_type": "markdown",
      "metadata": {
        "id": "muBWRcMwBSFn",
        "colab_type": "text"
      },
      "source": [
        "On regardera ici la proximité ou l'éloignement des pays ce qui expriment la similarité d'états de certains pays et la gravité de situation de quelques un par rapport aux autres."
      ]
    },
    {
      "cell_type": "code",
      "metadata": {
        "id": "xxFdV6xAXm6E",
        "colab_type": "code",
        "outputId": "a8756cf8-0bcb-4d56-8e44-f04515737dae",
        "colab": {
          "base_uri": "https://localhost:8080/",
          "height": 902
        }
      },
      "source": [
        "#Cercle de cooreleation\n",
        "\n",
        "select=['\tTotal\\nCases',\t'Total\\nDeaths',\t'Total\\nRecovered\t','Active\\nCases','\tCritical Cases\\n','\tTot Cases/\\n1M pop','\tDeaths/\\n1M pop']\n",
        "x = np.sqrt(acp.explained_variance_)\n",
        "y = np.zeros((len(select), len(select)))\n",
        "for i in range(2):\n",
        "    y[:,i] = acp.components_[i,:] * x[i]\n",
        "\n",
        "print(pd.DataFrame({'Variable':select, 'Composante 1':y[:,0], 'Composante 2':y[:,1]}))\n",
        "\n",
        "# Création des figures\n",
        "fig, axes = plt.subplots(figsize=(12,12))\n",
        "\n",
        "# Récupération des noms\n",
        "for i in range(len(select)):\n",
        "    plt.annotate(select[i],(y[i,0], y[i,1]))\n",
        "\n",
        "# Échelle des axes\n",
        "plt.plot([-1,1],[0,0])\n",
        "plt.plot([0,0],[-1,1])\n",
        "\n",
        "# Ajouter un cercle\n",
        "cercle = plt.Circle((0,0), 1, fill=False)\n",
        "axes.add_artist(cercle)\n",
        "\n",
        "# Affichage du cercle\n",
        "plt.show()"
      ],
      "execution_count": 0,
      "outputs": [
        {
          "output_type": "stream",
          "text": [
            "               Variable  Composante 1  Composante 2\n",
            "0        \\tTotal\\nCases      0.852938      0.551429\n",
            "1         Total\\nDeaths      0.939455     -0.168565\n",
            "2    Total\\nRecovered\\t      0.285209      0.340238\n",
            "3         Active\\nCases      0.783546      0.510875\n",
            "4    \\tCritical Cases\\n      0.879334      0.140513\n",
            "5  \\tTot Cases/\\n1M pop      0.610137     -0.704712\n",
            "6     \\tDeaths/\\n1M pop      0.749639     -0.670851\n"
          ],
          "name": "stdout"
        },
        {
          "output_type": "stream",
          "text": [
            "/usr/local/lib/python3.6/dist-packages/matplotlib/backends/backend_agg.py:214: RuntimeWarning: Glyph 9 missing from current font.\n",
            "  font.set_text(s, 0.0, flags=flags)\n",
            "/usr/local/lib/python3.6/dist-packages/matplotlib/backends/backend_agg.py:183: RuntimeWarning: Glyph 9 missing from current font.\n",
            "  font.set_text(s, 0, flags=flags)\n"
          ],
          "name": "stderr"
        },
        {
          "output_type": "display_data",
          "data": {
            "image/png": "[encoded data removed]",
            "text/plain": [
              "<Figure size 864x864 with 1 Axes>"
            ]
          },
          "metadata": {
            "tags": []
          }
        }
      ]
    },
    {
      "cell_type": "markdown",
      "metadata": {
        "colab_type": "text",
        "id": "KWEP6dB2ELpV"
      },
      "source": [
        "**Conclusion:**\n",
        "Sans grande surprise, total number of cases et total number of deaths semblent assez corrélés puisque c'est d'une maladie infectieuse et émergente qui attaque les personnes agées et ceux qui ont des maladies chroniques, ça s'explique aussi par la faible performance de ces systèmes de santé de certains pays. Le numbre critical of cases ne sont guère loin pour la même raison. Le total number of recovered par contre est plus éloigné c'est assez logique, puisque cette pandémie n'a pas encore un traitement ce qui explique aussi la forte corrélation de total number of active cases et total number of cases. On constate que le total number of cases per 1 Million population et le number of deaths per 1Million est faiblement corrélé avec le number total of cases c'est évident puique on a environ 7 milliards personnes et seulement 2millions personnes infectés sur le monde enitier et 200 000 décès."
      ]
    },
    {
      "cell_type": "markdown",
      "metadata": {
        "id": "Rw-K3UG24oHP",
        "colab_type": "text"
      },
      "source": [
        "**Réalisé par:**\n",
        "  *   Malek Zoghlami\n",
        "  *   Mohamed Rekik\n",
        "\n",
        "2éme informatique A\n",
        "\n",
        "\n"
      ]
    }
  ]
}